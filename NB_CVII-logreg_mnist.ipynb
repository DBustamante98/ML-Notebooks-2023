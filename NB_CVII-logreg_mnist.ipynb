{
 "cells": [
  {
   "cell_type": "markdown",
   "metadata": {},
   "source": [
    "# Notebook 7: Logistic Regression and SoftMax for MNIST"
   ]
  },
  {
   "cell_type": "markdown",
   "metadata": {},
   "source": [
    "## Learning Goal\n",
    "\n",
    "The goal of this notebook is to familiarize the reader with SoftMax regression (a generalization of logistic regression to more than two categories), categorical predictions, and the MNIST handwritten dataset. The reader will understand how to use the Scikit Logistic regression package and visualize learned weights.\n",
    "\n",
    "## Overview\n",
    "### The MNIST dataset:\n",
    "The MNIST classification problem is one of the classical ML problems for learning classification on high-dimensional data with a fairly sizable number of examples (60000). Yann LeCun and collaborators collected and processed $70000$ handwritten digits (60000 are used for training and 10000 for testing) to produce what became known as one of the most widely used datasets in ML: the [MNIST](http://yann.lecun.com/exdb/mnist/) dataset. Each handwritten digit comes in a grayscale square image in the shape of a $28\\times 28$ pixel grid. Every pixel takes a value in the range $[0,255]$, representing $256$ nuances of the gray color. The problem of image classification finds applications in a wide range of fields and is important for numerous industry applications of ML. \n",
    "### SoftMax regression:\n",
    "We will use SoftMax regression, which can be thought of as a statistical model which assigns a probability that a given input image corresponds to any of the 10 handwritten digits. The model is a generalization of the logistic regression and reads:\n",
    "\\begin{align}\n",
    "p(y=i|\\boldsymbol{x};W) = \\frac{e^{\\boldsymbol{w}_i^T \\boldsymbol{x}}}{\\sum_{j=0}^9 e^{\\boldsymbol{w}_j^T}},\n",
    "\\end{align}\n",
    "Where $p(y=i|\\boldsymbol{x};W)$ is the probability that input $\\boldsymbol{x}$ is the $i$-th digit, $i\\in[0,9]$.\n",
    "The model also has 10 weight vectors $\\boldsymbol{w}_i$ which we will train below. Finally, one can use this information for prediction by taking the value of $y$ for which this probability is maximized:\n",
    "\\begin{align}\n",
    "y_{pred}=\\arg\\max_i p(y=i|\\boldsymbol{x})\n",
    "\\end{align}\n",
    "\n",
    "## Numerical Experiments\n",
    "\n",
    "The reader is invited to check out the code below to build up their intuition about SoftMax regression. The following notebook is a slight modification of [this Scikit tutorial](http://scikit-learn.org/dev/auto_examples/linear_model/plot_sparse_logistic_regression_mnist.html) by Arthur Mensch on studying the MNIST problem using Logistic Regression."
   ]
  },
  {
   "cell_type": "code",
   "execution_count": 1,
   "metadata": {
    "scrolled": true
   },
   "outputs": [
    {
     "name": "stdout",
     "output_type": "stream",
     "text": [
      "Automatically created module for IPython interactive environment\n"
     ]
    }
   ],
   "source": [
    "import time\n",
    "import numpy as np\n",
    "\n",
    "from sklearn.datasets import fetch_openml # MNIST data\n",
    "from sklearn.linear_model import LogisticRegression\n",
    "from sklearn.model_selection import train_test_split\n",
    "from sklearn.preprocessing import StandardScaler\n",
    "from sklearn.utils import check_random_state\n",
    "\n",
    "print(__doc__)\n",
    "\n",
    "# Turn down for faster convergence\n",
    "t0 = time.time()\n",
    "train_size = 500 # 50000\n",
    "test_size = 10000 # 10000\n",
    "\n",
    "### load MNIST data from https://www.openml.org/d/554\n",
    "X, y = fetch_openml('mnist_784', version=1, return_X_y=True)\n",
    "\n",
    "# shuffle data\n",
    "random_state = check_random_state(0)\n",
    "permutation = random_state.permutation(X.shape[0])\n",
    "#X = X[permutation]\n",
    "#y = y[permutation]\n",
    "#X = X.reshape((X.shape[0], -1))\n",
    "\n",
    "# pick training and test data sets \n",
    "X_train, X_test, y_train, y_test = train_test_split(X,y,train_size=train_size,test_size=test_size)\n",
    "\n",
    "# scale data to have zero mean and unit variance [required by regressor]\n",
    "scaler = StandardScaler()\n",
    "X_train = scaler.fit_transform(X_train)\n",
    "X_test = scaler.transform(X_test)"
   ]
  },
  {
   "cell_type": "code",
   "execution_count": 2,
   "metadata": {},
   "outputs": [
    {
     "name": "stdout",
     "output_type": "stream",
     "text": [
      "Example run in 72.524 s\n",
      "Sparsity with L2 penalty: 26.79%\n",
      "Test score with L2 penalty: 0.8270\n"
     ]
    }
   ],
   "source": [
    "# apply logistic regressor with 'sag' solver, C is the inverse regularization strength\n",
    "clf = LogisticRegression(C=1e5,\n",
    "                         multi_class='multinomial',\n",
    "                         penalty='l2', solver='sag', tol=0.1) # 'sag'\n",
    "# fit data\n",
    "clf.fit(X_train, y_train)\n",
    "# percentage of nonzero weights\n",
    "sparsity = np.mean(clf.coef_ == 0) * 100\n",
    "# compute accuracy\n",
    "score = clf.score(X_test, y_test)\n",
    "\n",
    "#display run time\n",
    "run_time = time.time() - t0\n",
    "print('Example run in %.3f s' % run_time)\n",
    "\n",
    "print(\"Sparsity with L2 penalty: %.2f%%\" % sparsity)\n",
    "print(\"Test score with L2 penalty: %.4f\" % score)"
   ]
  },
  {
   "cell_type": "code",
   "execution_count": 61,
   "metadata": {},
   "outputs": [],
   "source": [
    "ind = 0\n",
    "A1int = []\n",
    "A2pos = []\n",
    "A3pred  = []\n",
    "for i in y_test:\n",
    "    if i != clf.predict([ X_test[ind] ]):\n",
    "        #print(i, clf.predict([ X_test[ind] ])  )\n",
    "        A1int.append(i)\n",
    "        A2pos.append(ind)             \n",
    "        A3pred.append(clf.predict([ X_test[ind] ])[0])\n",
    "    ind += 1"
   ]
  },
  {
   "cell_type": "code",
   "execution_count": 82,
   "metadata": {},
   "outputs": [
    {
     "data": {
      "text/plain": [
       "Text(0.5, 0, '8, not 5')"
      ]
     },
     "execution_count": 82,
     "metadata": {},
     "output_type": "execute_result"
    },
    {
     "data": {
      "image/png": "[encoded data removed]",
      "text/plain": [
       "<Figure size 600x400 with 1 Axes>"
      ]
     },
     "metadata": {},
     "output_type": "display_data"
    }
   ],
   "source": [
    "check = 11\n",
    "\n",
    "plt.figure(dpi=100)\n",
    "misplot = plt.subplot()\n",
    "plt.imshow(X_test[ A2pos[check] ].reshape(28, 28), interpolation='nearest') \n",
    "misplot.set_xticks(())\n",
    "misplot.set_yticks(())\n",
    "misplot.set_xlabel(A1int[check] + \", not \" + A3pred[check])\n",
    "#print( A1int[check] + \", not \" + A3pred[check]  )"
   ]
  },
  {
   "cell_type": "code",
   "execution_count": 3,
   "metadata": {},
   "outputs": [
    {
     "data": {
      "image/png": "[encoded data removed]",
      "text/plain": [
       "<Figure size 720x360 with 10 Axes>"
      ]
     },
     "metadata": {},
     "output_type": "display_data"
    }
   ],
   "source": [
    "%matplotlib inline\n",
    "import matplotlib.pyplot as plt\n",
    "\n",
    "# plot weights vs the pixel position\n",
    "coef = clf.coef_.copy()\n",
    "plt.figure(figsize=(10, 5))\n",
    "scale = np.abs(coef).max()\n",
    "for i in range(10):\n",
    "    l2_plot = plt.subplot(2, 5, i + 1)\n",
    "    l2_plot.imshow(coef[i].reshape(28, 28), interpolation='nearest',\n",
    "                   cmap=plt.cm.Greys, vmin=-scale, vmax=scale)\n",
    "    l2_plot.set_xticks(())\n",
    "    l2_plot.set_yticks(())\n",
    "    l2_plot.set_xlabel('Class %i' % i)\n",
    "plt.suptitle('classification weights vector $w_j$ for digit class $j$')\n",
    "\n",
    "plt.show()"
   ]
  },
  {
   "cell_type": "markdown",
   "metadata": {
    "collapsed": true
   },
   "source": [
    "### Exercises: ###  \n",
    "<ul>\n",
    "<li> The snippet above invoked the \"sag\" solver which only deals with $L2$ regularization. Try another solver, e.g. 'liblinear', in scikit that supports $L1$ regularization. You can find more details on <a href=\"http://scikit-learn.org/stable/modules/generated/sklearn.linear_model.LogisticRegression.html\"> http://scikit-learn.org/stable/modules/generated/sklearn.linear_model.LogisticRegression.html.</a>\n",
    "<br><span style=\"color:blue\">\n",
    "    <b>sag</b>\n",
    "<code>Sparsity with L2 penalty: 9.57%\n",
    "Test score with L2 penalty: 0.8966</code>\n",
    "<br> <br>  \n",
    "<b>saga</b>\n",
    "    <code>Sparsity with L1 penalty: 9.57%\n",
    "Test score with L1 penalty: 0.8904</code>    \n",
    "</span>\n",
    "    \n",
    "<li> Visualize the misclassified samples. Analyze on how logistic regression performs on MNIST, and note this since we will study the MNIST problem later on using deep neural nets.\n",
    "\n",
    "![NB7_1.png](https://github.com/DBustamante98/ML/blob/main/NB7_1.png?raw=true)        \n",
    "\n",
    "<br><span style=\"color:blue\">\n",
    "What the logistic regression does for each image is accept 784 inputs and multiply them by weights to generate the prediction. Due to the direct mapping between input and output (i.e., no hidden layer), the value of each weight corresponds to how much each of the 784 inputs is taken into account when calculating the probability of each class. By taking the weights of each class and transforming them into a 28×28 matrix (the resolution of the image), we can tell which pixels are the most important for the calculation of each class. How does a person draw a 0? He draws a circular shape that is empty in the middle. That is exactly what the weights for class 0 represent. To recognize zeros, no fancy filters are needed. The same for 1: in most cases, it corresponds to a vertical line in the middle of the image. The rest of the numbers are a bit more difficult, which is what prevents logistic regression from achieving greater than 90% accuracy. \n",
    " </span>\n",
    "    \n",
    "<li> Try to vary the size of the training set and see how that affects the accuracy.\n",
    "<br><span style=\"color:blue\">    \n",
    "<b>train_size = 50000</b>\n",
    "<code>Sparsity with L2 penalty: 9.57%\n",
    "Test score with L2 penalty: 0.8966</code>\n",
    "<br> <br>  \n",
    "<b>train_size = 5000</b>\n",
    "    <code>Sparsity with L2 penalty: 16.07%\n",
    "Test score with L2 penalty: 0.8894</code>  \n",
    "<br> <br>  \n",
    "<b>train_size = 500</b>\n",
    "    <code>Sparsity with L2 penalty: 26.66%\n",
    "Test score with L2 penalty: 0.8293</code> \n",
    "    </span>    \n",
    "<li>  [Theory] In this notebook, we considered a $K=10$ multi-class logistic regression (MLR) also known as the SoftMax regression. Recall that the our model reads:\n",
    "$$\n",
    "p(y=i|\\boldsymbol{x};W) = \\frac{e^{\\boldsymbol{w}_i^T \\boldsymbol{x}}}{\\sum_{j=0}^9 e^{\\boldsymbol{w}_j^T \\boldsymbol{x}}}\n",
    "$$\n",
    "Use this to construct the likelihood function $P(y|\\boldsymbol{x})$.\n",
    "<br><span style=\"color:blue\">\n",
    "$$\n",
    "\\textbf{W} = \\{\\textbf{w}_k\\}^{K−1}_{k=0}\n",
    "$$    \n",
    "$$\n",
    "   P(\\mathcal{D}|\\textbf{W}) = \\prod_{i=1}^n \\prod_{m=0}^{K-1} \\left[P(y_{im} = 1|\\textbf{x}_i, \\textbf{W})\\right]^{y_{im}} \n",
    "$$\n",
    "</span>   \n",
    "<li> [Theory] Now consider we're given a set of i.i.d. data $\\mathcal{D}=\\{(\\boldsymbol{x}_1,y_1),\\cdots, (\\boldsymbol{x}_n,y_n)\\}$. As we argued in the main text, the cross-entropy error used in logistic regression is motivated by maximizing the likelihood (or equivalently, minimizing the negative log-likelihood), find the corresponding error function $E(\\boldsymbol{w}_0,\\cdots,\\boldsymbol{w}_9)$ in MLR using the hypothesis above. \n",
    "<br><span style=\"color:blue\">\n",
    "\n",
    " $$ \n",
    "   E(\\textbf{w}) = −\\sum^n_{i=1} \\sum^{K−1}_{m=0} y_{im} \\log P(y_{im} = 1|\\textbf{x}_i, \\textbf{W})\n",
    "$$\n",
    "</span>\n",
    "<li> [Theory] Using the error function derived above, calculate its gradient $\\frac{\\partial E}{\\partial \\boldsymbol{w}_k}$. Can you find an elegant way of writing the gradient?\n",
    " <br><span style=\"color:blue\">\n",
    "\n",
    "$$ \n",
    "\\begin{align}\n",
    "  \\dfrac{ \\partial P(y_{im;m \\neq k} = 1|\\textbf{x}_i, \\textbf{W}) }{\\partial \\textbf{w}_k} &=- \\textbf{x}_i P(y_{im} = 1|\\textbf{x}_i, \\textbf{W}) P(y_{ik} = 1|\\textbf{x}_i, \\textbf{W}) \\\\ \n",
    "  \\dfrac{ \\partial P(y_{ik} = 1|\\textbf{x}_i, \\textbf{W}) }{\\partial \\textbf{w}_k} &=\\textbf{x}_i P(y_{ik} = 1|\\textbf{x}_i, \\textbf{W}) \\left( 1- P(y_{ik} = 1|\\textbf{x}_i, \\textbf{W}) \\right) \\\\\n",
    " \\end{align}\n",
    "$$       \n",
    "Then\n",
    " $$ \n",
    "\\begin{align}\n",
    "  \\dfrac{ \\partial E(\\textbf{w}) }{\\partial \\textbf{w}_k} &= \\sum^n_{i=1} \\textbf{x}_i \\left[ -y_{ik}\\left( 1-P(y_{ik} = 1|\\textbf{x}_i, \\textbf{W})\\right) + P(y_{ik} = 1|\\textbf{x}_i, \\textbf{W}) \\sum^{K−1}_{m=0;m \\neq k} y_{im}   \\right] \\\\\n",
    " &= \\sum^n_{i=1} \\textbf{x}_i \\left[ -y_{ik}\\left( 1-P(y_{ik} = 1|\\textbf{x}_i, \\textbf{W})\\right) + P(y_{ik} = 1|\\textbf{x}_i, \\textbf{W}) (1- y_{ik})   \\right] \\\\\n",
    "  &= \\sum^n_{i=1} \\textbf{x}_i \\left[ P(y_{ik} = 1|\\textbf{x}_i, \\textbf{W}) -y_{ik}  \\right] \\\\\n",
    " \\end{align}\n",
    "$$   \n",
    "    \n",
    "</span>   \n",
    "</ul>\n"
   ]
  }
 ],
 "metadata": {
  "kernelspec": {
   "display_name": "Python 3 (ipykernel)",
   "language": "python",
   "name": "python3"
  },
  "language_info": {
   "codemirror_mode": {
    "name": "ipython",
    "version": 3
   },
   "file_extension": ".py",
   "mimetype": "text/x-python",
   "name": "python",
   "nbconvert_exporter": "python",
   "pygments_lexer": "ipython3",
   "version": "3.9.13"
  }
 },
 "nbformat": 4,
 "nbformat_minor": 1
}
