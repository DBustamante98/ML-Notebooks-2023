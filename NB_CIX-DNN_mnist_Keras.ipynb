{
 "cells": [
  {
   "cell_type": "markdown",
   "metadata": {},
   "source": [
    "# Notebook 11: Introduction to Deep Neural Networks with Keras"
   ]
  },
  {
   "cell_type": "markdown",
   "metadata": {},
   "source": [
    "## Learning Goals\n",
    "The goal of this notebook is to introduce deep neural networks (DNNs) using the high-level Keras package. The reader will become familiar with how to choose an architecture, cost function, and optimizer in Keras. We will also learn how to train neural networks.\n",
    "\n",
    "\n",
    "# MNIST with Keras\n",
    "\n",
    "We will once again work with the MNIST dataset of hand written digits introduced in *Notebook 7: Logistic Regression (MNIST)*. The goal is to find a statistical model which recognizes and distinguishes between the ten handwritten digits (0-9).\n",
    "\n",
    "The MNIST dataset comprises $70000$ handwritten digits, each of which comes in a square image, divided into a $28\\times 28$ pixel grid. Every pixel can take on $256$ nuances of the gray color, interpolating between white and black, and hence each data point assumes any value in the set $\\{0,1,\\dots,255\\}$. Since there are $10$ categories in the problem, corresponding to the ten digits, this problem represents a generic classification task. \n",
    "\n",
    "In this Notebook, we show how to use the Keras python package to tackle the MNIST problem with the help of deep neural networks.\n",
    "\n",
    "The following code is a slight modification of a Keras tutorial, see [https://github.com/fchollet/keras/blob/master/examples/mnist_cnn.py](https://github.com/fchollet/keras/blob/master/examples/mnist_cnn.py). We invite the reader to read Sec. IX of the review to acquire a broad understanding of what the separate parts of the code do."
   ]
  },
  {
   "cell_type": "code",
   "execution_count": 1,
   "metadata": {},
   "outputs": [],
   "source": [
    "from __future__ import print_function\n",
    "import keras,sklearn\n",
    "# suppress tensorflow compilation warnings\n",
    "import os\n",
    "os.environ['KMP_DUPLICATE_LIB_OK']='True'\n",
    "import tensorflow as tf\n",
    "os.environ['TF_CPP_MIN_LOG_LEVEL'] = '2'\n",
    "import numpy as np\n",
    "seed=0\n",
    "np.random.seed(seed) # fix random seed\n",
    "\n",
    "tf.random.set_seed(seed)\n",
    "\n",
    "import matplotlib.pyplot as plt"
   ]
  },
  {
   "cell_type": "markdown",
   "metadata": {},
   "source": [
    "## Structure of the Procedure\n",
    "\n",
    "Constructing a Deep Neural Network to solve ML problems is a multiple-stage process. Quite generally, one can identify the key steps as follows:\n",
    "\n",
    "* ***step 1:*** Load and process the data\n",
    "* ***step 2:*** Define the model and its architecture\n",
    "* ***step 3:*** Choose the optimizer and the cost function\n",
    "* ***step 4:*** Train the model \n",
    "* ***step 5:*** Evaluate the model performance on the *unseen* test data\n",
    "* ***step 6:*** Modify the hyperparameters to optimize performance for the specific data set\n",
    "\n",
    "We would like to emphasize that, while it is always possible to view steps 1-5 as independent of the particular task we are trying to solve, it is only when they are put together in ***step 6*** that the real gain of using Deep Learning is revealed, compared to less sophisticated methods such as the regression models or bagging, described in Secs. VII and VIII of the review. With this remark in mind, we shall focus predominantly on steps 1-5 below. We show how one can use grid search methods to find optimal hyperparameters in ***step 6***."
   ]
  },
  {
   "cell_type": "markdown",
   "metadata": {},
   "source": [
    "### Step 1: Load and Process the Data\n",
    "\n",
    "Keras can conveniently download the MNIST data from the web. All we need to do is import the `mnist` module and use the `load_data()` class, and it will create the training and test data sets or us.\n",
    "\n",
    "The MNIST set has pre-defined test and training sets, in order to facilitate the comparison of the performance of different models on the data.\n",
    "\n",
    "Once we have loaded the data, we need to format it in the correct shape. This differs from one package to the other and, as we see in the case of Keras, it can even be different depending on the backend used.\n",
    "\n",
    "While choosing the correct `datatype` can help improve the computational speed, we emphasize the rescaling step, which is necessary to avoid large variations in the minimal and maximal possible values of each feature. In other words, we want to make sure a feature is not being over-represented just because it is \"large\".\n",
    "\n",
    "Last, we cast the label vectors $y$ to binary class matrices (a.k.a. one-hot format), as explained in Sec. VII on SoftMax regression."
   ]
  },
  {
   "cell_type": "code",
   "execution_count": 2,
   "metadata": {},
   "outputs": [
    {
     "name": "stdout",
     "output_type": "stream",
     "text": [
      "an example of a data point with label [0. 0. 0. 0. 1. 0. 0. 0. 0. 0.]\n"
     ]
    },
    {
     "data": {
      "image/png": "[encoded data removed]",
      "text/plain": [
       "<Figure size 480x480 with 1 Axes>"
      ]
     },
     "metadata": {},
     "output_type": "display_data"
    },
    {
     "name": "stdout",
     "output_type": "stream",
     "text": [
      "X_train shape: (60000, 784)\n",
      "Y_train shape: (60000, 10)\n",
      "\n",
      "60000 train samples\n",
      "10000 test samples\n"
     ]
    }
   ],
   "source": [
    "from keras.datasets import mnist\n",
    "from tensorflow.keras.preprocessing.image import ImageDataGenerator\n",
    "import elasticdeform\n",
    "\n",
    "# input image dimensions\n",
    "num_classes = 10 # 10 digits\n",
    "\n",
    "img_rows, img_cols = 28, 28 # number of pixels \n",
    "\n",
    "# the data, shuffled and split between train and test sets\n",
    "(X_train, Y_train), (X_test, Y_test) = mnist.load_data()\n",
    "\n",
    "# convert class vectors to binary class matrices\n",
    "Y_train = keras.utils.to_categorical(Y_train, num_classes)\n",
    "Y_test = keras.utils.to_categorical(Y_test, num_classes)\n",
    "\n",
    "# datagen = ImageDataGenerator(featurewise_center=True, featurewise_std_normalization=True, zca_whitening=True)\n",
    "# X_train = datagen.flow(X_train.reshape(60000, 28, 28, 1), Y_train, batch_size=9, shuffle=False)\n",
    "# shift = 0.2\n",
    "# datagen = ImageDataGenerator(width_shift_range=shift, height_shift_range=shift)\n",
    "# X_train = datagen.flow(X_train, Y_train, batch_size=9, shuffle=False)\n",
    "\n",
    "# reshape data, depending on Keras backend\n",
    "X_train = X_train.reshape(X_train.shape[0], img_rows*img_cols)\n",
    "X_test = X_test.reshape(X_test.shape[0], img_rows*img_cols)\n",
    "    \n",
    "# cast floats to single precesion\n",
    "X_train = X_train.astype('float32')\n",
    "X_test = X_test.astype('float32')\n",
    "\n",
    "# rescale data in interval [0,1]\n",
    "X_train /= 255\n",
    "X_test /= 255\n",
    "\n",
    "mean_px = X_train.mean().astype(np.float32)\n",
    "std_px = X_train.std().astype(np.float32)\n",
    "X_train = (X_train - mean_px)/(std_px)\n",
    "\n",
    "mean_px = X_test.mean().astype(np.float32)\n",
    "std_px = X_test.std().astype(np.float32)\n",
    "X_test = (X_test - mean_px)/(std_px)\n",
    "\n",
    "# look at an example of data point\n",
    "print('an example of a data point with label', Y_train[20])\n",
    "plt.matshow(X_train[20,:].reshape(28,28),cmap='binary')\n",
    "plt.show()\n",
    "\n",
    "print('X_train shape:', X_train.shape)\n",
    "print('Y_train shape:', Y_train.shape)\n",
    "print()\n",
    "print(X_train.shape[0], 'train samples')\n",
    "print(X_test.shape[0], 'test samples')"
   ]
  },
  {
   "cell_type": "markdown",
   "metadata": {},
   "source": [
    "### Step 2: Define the Neural Net and its Architecture\n",
    "\n",
    "We can now move on to construct our deep neural net. We shall use Keras's `Sequential()` class to instantiate a model, and will add different deep layers one by one.\n",
    "\n",
    "At this stage, we refrain from using convolutional layers. This is done further below.\n",
    "\n",
    "Let us create an instance of Keras' `Sequential()` class, called `model`. As the name suggests, this class allows us to build DNNs layer by layer. We use the `add()` method to attach layers to our model. For the purposes of our introductory example, it suffices to focus on `Dense` layers for simplicity. Every `Dense()` layer accepts as its first required argument an integer which specifies the number of neurons. The type of activation function for the layer is defined using the `activation` optional argument, the input of which is the name of the activation function in `string` format. Examples include `relu`, `tanh`, `elu`, `sigmoid`, `softmax`. \n",
    "\n",
    "In order for our DNN to work properly, we have to make sure that the numbers of input and output neurons for each layer match. Therefore, we specify the shape of the input in the first layer of the model explicitly using the optional argument `input_shape=(N_features,)`. The sequential construction of the model then allows Keras to infer the correct input/output dimensions of all hidden layers automatically. Hence, we only need to specify the size of the softmax output layer to match the number of categories."
   ]
  },
  {
   "cell_type": "code",
   "execution_count": 3,
   "metadata": {},
   "outputs": [
    {
     "name": "stdout",
     "output_type": "stream",
     "text": [
      "Model architecture created successfully!\n"
     ]
    }
   ],
   "source": [
    "from keras.models import Sequential\n",
    "from keras.layers import Dense, Dropout, Flatten, BatchNormalization\n",
    "from keras.layers import Conv2D, MaxPooling2D\n",
    "\n",
    "# 400 100 0.5 64 10 / 0.9829999804496765\n",
    "# 300 100 0.5 80 15 / 0.9836000204086304\n",
    "\n",
    "def create_DNN(lys, dropout):\n",
    "    # instantiate model\n",
    "    model = Sequential()\n",
    "    # add a dense all-to-all relu layer\n",
    "    \n",
    "    first = True\n",
    "    for ly in lys:\n",
    "        if first:\n",
    "            model.add(Dense(ly,input_shape=(img_rows*img_cols,), activation='relu'))\n",
    "            model.add(BatchNormalization())\n",
    "            first = False\n",
    "        else:\n",
    "            model.add(Dense(ly, activation='relu'))\n",
    "            model.add(BatchNormalization())\n",
    "\n",
    "    model.add(Dropout(dropout))\n",
    "    # soft-max layer\n",
    "    model.add(Dense(num_classes, activation='softmax'))\n",
    "    \n",
    "    return model\n",
    "\n",
    "print('Model architecture created successfully!')"
   ]
  },
  {
   "cell_type": "markdown",
   "metadata": {},
   "source": [
    "### Step 3: Choose the Optimizer and the Cost Function\n",
    "\n",
    "Next, we choose the loss function according to which to train the DNN. For classification problems, this is the cross entropy, and since the output data was cast in categorical form, we choose the `categorical_crossentropy` defined in Keras' `losses` module. Depending on the problem of interest one can pick any other suitable loss function. To optimize the weights of the net, we choose SGD. This algorithm is already available to use under Keras' `optimizers` module, but we could use `Adam()` or any other built-in one as well. The parameters for the optimizer, such as `lr` (learning rate) or `momentum` are passed using the corresponding optional arguments of the `SGD()` function. All available arguments can be found in Keras' online documentation at [https://keras.io/](https://keras.io/). While the loss function and the optimizer are essential for the training procedure, to test the performance of the model one may want to look at a particular `metric` of performance. For instance, in categorical tasks one typically looks at their `accuracy`, which is defined as the percentage of correctly classified data points. To complete the definition of our model, we use the `compile()` method, with optional arguments for the `optimizer`, `loss`, and the validation `metric` as follows:"
   ]
  },
  {
   "cell_type": "code",
   "execution_count": 4,
   "metadata": {},
   "outputs": [
    {
     "name": "stdout",
     "output_type": "stream",
     "text": [
      "Model compiled successfully and ready to be trained.\n"
     ]
    }
   ],
   "source": [
    "from tensorflow.keras.optimizers import schedules\n",
    "\n",
    "def compile_model_(dropout):\n",
    "    def _compile_model_(optimizer=keras.optimizers.RMSprop(), ly1=320, ly2=270, ly3=20):\n",
    "        model=create_DNN(ly1, ly2, ly3, dropout)\n",
    "        model.compile(loss=keras.losses.categorical_crossentropy,\n",
    "                      optimizer=optimizer,\n",
    "                      metrics=['accuracy'])\n",
    "        return model    \n",
    "    return _compile_model_\n",
    "    \n",
    "\n",
    "def compile_model(lys, dropout, learning_rate, c_optimizer):\n",
    "    learning_r = 10**learning_rate\n",
    "    lr_schedule = schedules.ExponentialDecay(\n",
    "    initial_learning_rate=learning_r,\n",
    "    decay_steps=10000,\n",
    "    decay_rate=0.9)\n",
    "    rand = round(c_optimizer) # random.choice(foo)\n",
    "    if rand == 0:\n",
    "        optimizer=keras.optimizers.SGD(learning_rate=lr_schedule)\n",
    "    elif rand == 1:\n",
    "        optimizer=keras.optimizers.RMSprop(learning_rate=learning_r)\n",
    "    elif rand == 2:\n",
    "        optimizer=keras.optimizers.Adagrad(learning_rate=lr_schedule)\n",
    "    elif rand == 3:\n",
    "        optimizer=keras.optimizers.Adadelta(learning_rate=lr_schedule)\n",
    "    elif rand == 4:\n",
    "        optimizer=keras.optimizers.Adam() # learning_rate=lr_schedule\n",
    "    elif rand == 5:\n",
    "        optimizer=keras.optimizers.Adamax(learning_rate=lr_schedule)\n",
    "    else:\n",
    "        optimizer=keras.optimizers.Nadam(learning_rate=learning_r)\n",
    "\n",
    "    # create the mode\n",
    "    model=create_DNN(lys, dropout)\n",
    "    # compile the model\n",
    "    model.compile(loss=keras.losses.categorical_crossentropy,\n",
    "                  optimizer=optimizer,\n",
    "                  metrics=['accuracy'])\n",
    "    return model\n",
    "\n",
    "print('Model compiled successfully and ready to be trained.')"
   ]
  },
  {
   "cell_type": "markdown",
   "metadata": {},
   "source": [
    "### Step 4: Train the model\n",
    "\n",
    "We train our DNN in minibatches, the advantages of which were explained in Sec. IV. \n",
    "\n",
    "Shuffling the training data during training improves stability of the model. Thus, we train over a number of training epochs. \n",
    "\n",
    "Training the DNN is a one-liner using the `fit()` method of the `Sequential` class. The first two required arguments are the training input and output data. As optional arguments, we specify the mini-`batch_size`, the number of training `epochs`, and the test or `validation_data`. To monitor the training procedure for every epoch, we set `verbose=True`. "
   ]
  },
  {
   "cell_type": "code",
   "execution_count": null,
   "metadata": {},
   "outputs": [],
   "source": [
    "# # training parameters\n",
    "# batch_size = 80 # 64\n",
    "# epochs = 15 # 10\n",
    "\n",
    "# # create the deep neural net\n",
    "# model_DNN=compile_model()\n",
    "\n",
    "# # train DNN and store training info in history\n",
    "# history=model_DNN.fit(X_train, Y_train,\n",
    "#           batch_size=batch_size,\n",
    "#           epochs=epochs,\n",
    "#           verbose=1,\n",
    "#           validation_data=(X_test, Y_test))"
   ]
  },
  {
   "cell_type": "markdown",
   "metadata": {},
   "source": [
    "### Step 5: Evaluate the Model Performance on the *Unseen* Test Data\n",
    "\n",
    "Next, we evaluate the model and read of the loss on the test data, and its accuracy using the `evaluate()` method."
   ]
  },
  {
   "cell_type": "code",
   "execution_count": 19,
   "metadata": {},
   "outputs": [],
   "source": [
    "from scipy.optimize import curve_fit\n",
    "# best_model = None\n",
    "# best_accuracy = 0\n",
    "\n",
    "def fine_fitting(ly1, ly2, ly3, c_optimizer, batch_size, epochs):\n",
    "    def fine_fitting_(p,  dropout, learning_rate):\n",
    "        model_DNN=compile_model(ly1, ly2, ly3, dropout, learning_rate, c_optimizer)\n",
    "\n",
    "        history=model_DNN.fit(X_train, Y_train,\n",
    "              batch_size=round(batch_size),\n",
    "              epochs=round(epochs),\n",
    "              verbose=1,\n",
    "              validation_data=(X_test, Y_test))\n",
    "        score = model_DNN.evaluate(X_test, Y_test, verbose=0)\n",
    "        print(\"*****Score: \", score[1], \"  with:\", round(ly1), round(ly2), round(ly3), dropout, learning_rate, round(c_optimizer), round(batch_size), round(epochs))\n",
    "        return [1 - score[1]]\n",
    "    return  fine_fitting_\n",
    "\n",
    "def fitting(lys, c_optimizer, batch_size, epochs, dropout, learning_rate):\n",
    "    model_DNN=compile_model(lys, dropout, learning_rate, c_optimizer)\n",
    "\n",
    "    history=model_DNN.fit(X_train, Y_train,\n",
    "          batch_size=round(batch_size),\n",
    "          epochs=round(epochs),\n",
    "          verbose=1,\n",
    "          validation_data=(X_test, Y_test))\n",
    "    \n",
    "    score = model_DNN.evaluate(X_test, Y_test, verbose=0)\n",
    "    return score[1], model_DNN, history\n",
    "\n",
    "B = ( [0,0,0,   0,     60,10, 0.2,-5], [500, 150, 50,    6,     60.1, 10.1, 0.6, -2] )\n",
    "Bf = ( [0.2,-6], [0.6, -1] )\n",
    "def getRandomP0(bounds):\n",
    "    params0 = []\n",
    "    n_param = len(bounds[0])\n",
    "    for i in range(n_param):\n",
    "        params0.append( np.random.random()*( bounds[1][i] - bounds[0][i] ) + bounds[0][i]  )\n",
    "    return params0\n",
    "\n",
    "# param123, cov = curve_fit(fitting, [1], [0], maxfev = 2000, bounds=B, p0=getRandomP0(B)) #  getRandomP0(B) 200000"
   ]
  },
  {
   "cell_type": "code",
   "execution_count": 20,
   "metadata": {
    "scrolled": false
   },
   "outputs": [
    {
     "name": "stdout",
     "output_type": "stream",
     "text": [
      "Epoch 1/30\n",
      "1875/1875 [==============================] - 125s 66ms/step - loss: 0.7289 - accuracy: 0.7878 - val_loss: 0.1887 - val_accuracy: 0.9501\n",
      "Epoch 2/30\n",
      "1875/1875 [==============================] - 126s 67ms/step - loss: 0.4516 - accuracy: 0.8610 - val_loss: 0.1193 - val_accuracy: 0.9666\n",
      "Epoch 3/30\n",
      "1875/1875 [==============================] - 126s 67ms/step - loss: 0.3635 - accuracy: 0.8813 - val_loss: 0.1056 - val_accuracy: 0.9743\n",
      "Epoch 4/30\n",
      "1875/1875 [==============================] - 126s 67ms/step - loss: 0.3194 - accuracy: 0.8972 - val_loss: 0.0945 - val_accuracy: 0.9775\n",
      "Epoch 5/30\n",
      "1875/1875 [==============================] - 127s 68ms/step - loss: 0.2962 - accuracy: 0.9045 - val_loss: 0.0918 - val_accuracy: 0.9774\n",
      "Epoch 6/30\n",
      "1875/1875 [==============================] - 126s 67ms/step - loss: 0.2720 - accuracy: 0.9102 - val_loss: 0.0879 - val_accuracy: 0.9809\n",
      "Epoch 7/30\n",
      "1875/1875 [==============================] - 126s 67ms/step - loss: 0.2595 - accuracy: 0.9158 - val_loss: 0.1004 - val_accuracy: 0.9789\n",
      "Epoch 8/30\n",
      "1875/1875 [==============================] - 127s 68ms/step - loss: 0.2476 - accuracy: 0.9215 - val_loss: 0.0971 - val_accuracy: 0.9812\n",
      "Epoch 9/30\n",
      "1875/1875 [==============================] - 126s 67ms/step - loss: 0.2350 - accuracy: 0.9247 - val_loss: 0.0980 - val_accuracy: 0.9785\n",
      "Epoch 10/30\n",
      "1875/1875 [==============================] - 126s 67ms/step - loss: 0.2316 - accuracy: 0.9247 - val_loss: 0.0906 - val_accuracy: 0.9819\n",
      "Epoch 11/30\n",
      "1875/1875 [==============================] - 126s 67ms/step - loss: 0.2235 - accuracy: 0.9270 - val_loss: 0.0855 - val_accuracy: 0.9841\n",
      "Epoch 12/30\n",
      "1875/1875 [==============================] - 126s 67ms/step - loss: 0.2204 - accuracy: 0.9275 - val_loss: 0.1138 - val_accuracy: 0.9802\n",
      "Epoch 13/30\n",
      "1875/1875 [==============================] - 128s 68ms/step - loss: 0.2090 - accuracy: 0.9303 - val_loss: 0.1003 - val_accuracy: 0.9821\n",
      "Epoch 14/30\n",
      "1875/1875 [==============================] - 126s 67ms/step - loss: 0.2077 - accuracy: 0.9311 - val_loss: 0.0887 - val_accuracy: 0.9839\n",
      "Epoch 15/30\n",
      "1875/1875 [==============================] - 127s 68ms/step - loss: 0.1984 - accuracy: 0.9352 - val_loss: 0.0856 - val_accuracy: 0.9843\n",
      "Epoch 16/30\n",
      "1875/1875 [==============================] - 126s 67ms/step - loss: 0.1895 - accuracy: 0.9379 - val_loss: 0.0888 - val_accuracy: 0.9823\n",
      "Epoch 17/30\n",
      "1875/1875 [==============================] - 138s 73ms/step - loss: 0.1979 - accuracy: 0.9368 - val_loss: 0.0860 - val_accuracy: 0.9843\n",
      "Epoch 18/30\n",
      "1875/1875 [==============================] - 126s 67ms/step - loss: 0.1883 - accuracy: 0.9383 - val_loss: 0.0847 - val_accuracy: 0.9838\n",
      "Epoch 19/30\n",
      "1875/1875 [==============================] - 127s 68ms/step - loss: 0.1806 - accuracy: 0.9413 - val_loss: 0.0868 - val_accuracy: 0.9840\n",
      "Epoch 20/30\n",
      "1875/1875 [==============================] - 126s 67ms/step - loss: 0.1735 - accuracy: 0.9413 - val_loss: 0.1087 - val_accuracy: 0.9853\n",
      "Epoch 21/30\n",
      "1875/1875 [==============================] - 127s 68ms/step - loss: 0.1762 - accuracy: 0.9419 - val_loss: 0.1020 - val_accuracy: 0.9838\n",
      "Epoch 22/30\n",
      "1875/1875 [==============================] - 127s 68ms/step - loss: 0.1731 - accuracy: 0.9435 - val_loss: 0.0903 - val_accuracy: 0.9859\n",
      "Epoch 23/30\n",
      "1875/1875 [==============================] - 127s 68ms/step - loss: 0.1760 - accuracy: 0.9436 - val_loss: 0.0964 - val_accuracy: 0.9847\n",
      "Epoch 24/30\n",
      "1875/1875 [==============================] - 129s 69ms/step - loss: 0.1685 - accuracy: 0.9446 - val_loss: 0.0983 - val_accuracy: 0.9851\n",
      "Epoch 25/30\n",
      "1875/1875 [==============================] - 131s 70ms/step - loss: 0.1726 - accuracy: 0.9445 - val_loss: 0.1003 - val_accuracy: 0.9863\n",
      "Epoch 26/30\n",
      "1875/1875 [==============================] - 131s 70ms/step - loss: 0.1658 - accuracy: 0.9464 - val_loss: 0.1068 - val_accuracy: 0.9852\n",
      "Epoch 27/30\n",
      "1875/1875 [==============================] - 150s 80ms/step - loss: 0.1607 - accuracy: 0.9466 - val_loss: 0.1230 - val_accuracy: 0.9834\n",
      "Epoch 28/30\n",
      "1875/1875 [==============================] - 170s 91ms/step - loss: 0.1570 - accuracy: 0.9492 - val_loss: 0.1591 - val_accuracy: 0.9838\n",
      "Epoch 29/30\n",
      "1875/1875 [==============================] - 157s 84ms/step - loss: 0.1645 - accuracy: 0.9458 - val_loss: 0.1115 - val_accuracy: 0.9850\n",
      "Epoch 30/30\n",
      "1875/1875 [==============================] - 132s 70ms/step - loss: 0.1558 - accuracy: 0.9484 - val_loss: 0.1217 - val_accuracy: 0.9843\n",
      "Score:  0.9843000173568726\n"
     ]
    }
   ],
   "source": [
    "for i in range(1):\n",
    "    score_, model_, history_ = fitting([2500, 2000, 1500, 1000, 500, 10], c_optimizer=1, \n",
    "                             batch_size=32, epochs=30, dropout=0.5, learning_rate=-3)\n",
    "    print(\"Score: \", score_)\n",
    "    # Score:  0.9835000038146973   with: 320 270 20 0.25 -3 1 100 15\n",
    "\n",
    "    if score_ > best_accuracy:\n",
    "        best_model = model_\n",
    "        best_accuracy = score_"
   ]
  },
  {
   "cell_type": "code",
   "execution_count": 15,
   "metadata": {},
   "outputs": [
    {
     "data": {
      "text/plain": [
       "0.9857000112533569"
      ]
     },
     "execution_count": 15,
     "metadata": {},
     "output_type": "execute_result"
    }
   ],
   "source": [
    "best_accuracy"
   ]
  },
  {
   "cell_type": "code",
   "execution_count": null,
   "metadata": {},
   "outputs": [],
   "source": [
    "for i in range(100):\n",
    "    myrand = getRandomP0(B)\n",
    "    res = fitting(1, *myrand)\n",
    "    if res[0] < 0.03:\n",
    "        myrand2 = np.copy(myrand)\n",
    "        for j in [-5,-4,-3,-2,-1]:\n",
    "            for k in [0,1,2,3,4,5,6]:\n",
    "                myrand2[3] = k\n",
    "                myrand2[-1] = j\n",
    "                fine_fitting(*myrand2[0:6])(1, *myrand2[-2:]) #  getRandomP0(B) 200000\n",
    "# Score:  0.9811999797821045   with: 306 308 472 0.6818202991034834 78 10\n",
    "# Score:  0.982699990272522   with: 404 285 204 0.06916699545513805 143 15\n",
    "# Score:  0.9822999835014343   with: 496 18 47 0.12217255924633919 -3.3010651833370104 1 60 10"
   ]
  },
  {
   "cell_type": "code",
   "execution_count": 21,
   "metadata": {},
   "outputs": [
    {
     "name": "stdout",
     "output_type": "stream",
     "text": [
      "313/313 [==============================] - 3s 11ms/step - loss: 0.1104 - accuracy: 0.9857\n",
      "\n",
      "Test loss: 0.11040810495615005\n",
      "Test accuracy: 0.9857000112533569\n"
     ]
    },
    {
     "data": {
      "image/png": "[encoded data removed]",
      "text/plain": [
       "<Figure size 640x480 with 1 Axes>"
      ]
     },
     "metadata": {},
     "output_type": "display_data"
    },
    {
     "data": {
      "image/png": "[encoded data removed]",
      "text/plain": [
       "<Figure size 640x480 with 1 Axes>"
      ]
     },
     "metadata": {},
     "output_type": "display_data"
    }
   ],
   "source": [
    "# evaluate model\n",
    "score = best_model.evaluate(X_test, Y_test, verbose=1)\n",
    "\n",
    "# print performance\n",
    "print()\n",
    "print('Test loss:', score[0])\n",
    "print('Test accuracy:', score[1])\n",
    "\n",
    "# look into training history\n",
    "\n",
    "# summarize history for accuracy\n",
    "plt.plot(history_.history['accuracy'])\n",
    "plt.plot(history_.history['val_accuracy'])\n",
    "plt.ylabel('model accuracy')\n",
    "plt.xlabel('epoch')\n",
    "plt.legend(['train', 'test'], loc='best')\n",
    "plt.show()\n",
    "\n",
    "# summarize history for loss\n",
    "plt.plot(history_.history['loss'])\n",
    "plt.plot(history_.history['val_loss'])\n",
    "plt.ylabel('model loss')\n",
    "plt.xlabel('epoch')\n",
    "plt.legend(['train', 'test'], loc='best')\n",
    "plt.show()"
   ]
  },
  {
   "cell_type": "markdown",
   "metadata": {
    "collapsed": true
   },
   "source": [
    "### Step 6: Modify the Hyperparameters to Optimize Performance of the Model\n",
    "\n",
    "Last, we show how to use the grid search option of scikit-learn to optimize the \n",
    "hyperparameters of our model. An excellent blog on this by Jason Brownlee can be found on [https://machinelearningmastery.com/grid-search-hyperparameters-deep-learning-models-python-keras/](https://machinelearningmastery.com/grid-search-hyperparameters-deep-learning-models-python-keras/)."
   ]
  },
  {
   "cell_type": "code",
   "execution_count": null,
   "metadata": {},
   "outputs": [],
   "source": [
    "from sklearn.model_selection import GridSearchCV\n",
    "from keras.wrappers.scikit_learn import KerasClassifier\n",
    "\n",
    "# call Keras scikit wrapper\n",
    "model_gridsearch = KerasClassifier(build_fn=compile_model_(0.25), \n",
    "                        epochs=15, \n",
    "                        batch_size=64, \n",
    "                        verbose=1)\n",
    "\n",
    "# list of allowed optional arguments for the optimizer, see `compile_model()`\n",
    "optimizer = ['SGD', 'RMSprop', 'Adagrad', 'Adadelta', 'Adam', 'Adamax', 'Nadam']\n",
    "ly1 = range(200, 500, 10)\n",
    "ly2 = range(230, 340, 10)\n",
    "ly3 = range(10, 100, 10)\n",
    "\n",
    "# define parameter dictionary\n",
    "param_grid = dict(ly3=ly3) # param_grid = dict(optimizer=optimizer)\n",
    "# call scikit grid search module\n",
    "grid = GridSearchCV(estimator=model_gridsearch, param_grid=param_grid, n_jobs=10, cv=4)\n",
    "grid_result = grid.fit(X_train,Y_train)\n",
    "\n",
    "# summarize results\n",
    "print(\"Best: %f using %s\" % (grid_result.best_score_, grid_result.best_params_))\n",
    "means = grid_result.cv_results_['mean_test_score']\n",
    "stds = grid_result.cv_results_['std_test_score']\n",
    "params = grid_result.cv_results_['params']\n",
    "for mean, stdev, param in zip(means, stds, params):\n",
    "    print(\"%f (%f) with: %r\" % (mean, stdev, param))\n"
   ]
  },
  {
   "cell_type": "markdown",
   "metadata": {},
   "source": [
    "## Creating Convolutional Neural Nets with Keras\n",
    "\n",
    "We have so far considered each MNIST data sample as a $(28\\times 28,)$-long 1d vector. This approach neglects any spatial structure in the image. On the other hand, we do know that in every one of the hand-written digits there are *local* spatial correlations between the pixels, which we would like to take advantage of to improve the accuracy of our classification model. To this end, we first need to reshape the training and test input data as follows"
   ]
  },
  {
   "cell_type": "code",
   "execution_count": 24,
   "metadata": {},
   "outputs": [
    {
     "name": "stdout",
     "output_type": "stream",
     "text": [
      "X_train shape: (60000, 28, 28, 1)\n",
      "Y_train shape: (60000, 10)\n",
      "\n",
      "60000 train samples\n",
      "10000 test samples\n"
     ]
    }
   ],
   "source": [
    "# reshape data, depending on Keras backend\n",
    "if keras.backend.image_data_format() == 'channels_first':\n",
    "    X_train = X_train.reshape(X_train.shape[0], 1, img_rows, img_cols)\n",
    "    X_test = X_test.reshape(X_test.shape[0], 1, img_rows, img_cols)\n",
    "    input_shape = (1, img_rows, img_cols)\n",
    "else:\n",
    "    X_train = X_train.reshape(X_train.shape[0], img_rows, img_cols, 1)\n",
    "    X_test = X_test.reshape(X_test.shape[0], img_rows, img_cols, 1)\n",
    "    input_shape = (img_rows, img_cols, 1)\n",
    "    \n",
    "print('X_train shape:', X_train.shape)\n",
    "print('Y_train shape:', Y_train.shape)\n",
    "print()\n",
    "print(X_train.shape[0], 'train samples')\n",
    "print(X_test.shape[0], 'test samples')"
   ]
  },
  {
   "cell_type": "markdown",
   "metadata": {},
   "source": [
    "One can ask the question of whether a neural net can learn to recognize such local patterns. As we saw in Sec. X of the review, this can be achieved by using convolutional layers. Luckily, all we need to do is change the architecture of our DNN, i.e. introduce small changes to the function `create_model()`. We can also merge **Step 2** and **Step 3** for convenience: "
   ]
  },
  {
   "cell_type": "code",
   "execution_count": 25,
   "metadata": {},
   "outputs": [],
   "source": [
    "def create_CNN():\n",
    "    # instantiate model\n",
    "    model = Sequential()\n",
    "    # add first convolutional layer with 10 filters (dimensionality of output space)\n",
    "    model.add(Conv2D(10, kernel_size=(5, 5),\n",
    "                     activation='relu',\n",
    "                     input_shape=input_shape))\n",
    "    # add 2D pooling layer\n",
    "    model.add(MaxPooling2D(pool_size=(2, 2)))\n",
    "    # add second convolutional layer with 20 filters\n",
    "    model.add(Conv2D(20, (5, 5), activation='relu'))\n",
    "    # apply dropout with rate 0.5\n",
    "    model.add(Dropout(0.5))\n",
    "    # add 2D pooling layer\n",
    "    model.add(MaxPooling2D(pool_size=(2, 2)))\n",
    "    # flatten data\n",
    "    model.add(Flatten())\n",
    "    # add a dense all-to-all relu layer\n",
    "    model.add(Dense(20*4*4, activation='relu'))\n",
    "    # apply dropout with rate 0.5\n",
    "    model.add(Dropout(0.5))\n",
    "    # soft-max layer\n",
    "    model.add(Dense(num_classes, activation='softmax'))\n",
    "    \n",
    "    # compile the model\n",
    "    model.compile(loss=keras.losses.categorical_crossentropy,\n",
    "                  optimizer='Adam',\n",
    "                  metrics=['accuracy'])\n",
    "    \n",
    "    return model"
   ]
  },
  {
   "cell_type": "markdown",
   "metadata": {},
   "source": [
    "Training the deep conv net (**Step 4**) and evaluating its performance (**Step 6**) proceeds exactly as before:"
   ]
  },
  {
   "cell_type": "code",
   "execution_count": 26,
   "metadata": {},
   "outputs": [
    {
     "name": "stdout",
     "output_type": "stream",
     "text": [
      "Epoch 1/10\n",
      "938/938 [==============================] - 9s 10ms/step - loss: 0.2432 - accuracy: 0.9233 - val_loss: 0.0775 - val_accuracy: 0.9831\n",
      "Epoch 2/10\n",
      "938/938 [==============================] - 9s 10ms/step - loss: 0.0947 - accuracy: 0.9717 - val_loss: 0.0604 - val_accuracy: 0.9849\n",
      "Epoch 3/10\n",
      "938/938 [==============================] - 9s 10ms/step - loss: 0.0730 - accuracy: 0.9772 - val_loss: 0.0486 - val_accuracy: 0.9883\n",
      "Epoch 4/10\n",
      "938/938 [==============================] - 9s 10ms/step - loss: 0.0602 - accuracy: 0.9813 - val_loss: 0.0375 - val_accuracy: 0.9898\n",
      "Epoch 5/10\n",
      "938/938 [==============================] - 9s 10ms/step - loss: 0.0562 - accuracy: 0.9826 - val_loss: 0.0336 - val_accuracy: 0.9922\n",
      "Epoch 6/10\n",
      "938/938 [==============================] - 9s 10ms/step - loss: 0.0514 - accuracy: 0.9844 - val_loss: 0.0311 - val_accuracy: 0.9917\n",
      "Epoch 7/10\n",
      "938/938 [==============================] - 9s 10ms/step - loss: 0.0466 - accuracy: 0.9851 - val_loss: 0.0320 - val_accuracy: 0.9911\n",
      "Epoch 8/10\n",
      "938/938 [==============================] - 9s 10ms/step - loss: 0.0434 - accuracy: 0.9861 - val_loss: 0.0296 - val_accuracy: 0.9915\n",
      "Epoch 9/10\n",
      "938/938 [==============================] - 9s 10ms/step - loss: 0.0412 - accuracy: 0.9875 - val_loss: 0.0296 - val_accuracy: 0.9915\n",
      "Epoch 10/10\n",
      "938/938 [==============================] - 10s 10ms/step - loss: 0.0404 - accuracy: 0.9875 - val_loss: 0.0274 - val_accuracy: 0.9919\n",
      "313/313 [==============================] - 1s 2ms/step - loss: 0.0274 - accuracy: 0.9919\n",
      "\n",
      "Test loss: 0.027357378974556923\n",
      "Test accuracy: 0.9919000267982483\n"
     ]
    }
   ],
   "source": [
    "# training parameters\n",
    "batch_size = 64\n",
    "epochs = 10\n",
    "\n",
    "# create the deep conv net\n",
    "model_CNN=create_CNN()\n",
    "\n",
    "# train CNN\n",
    "model_CNN.fit(X_train, Y_train,\n",
    "          batch_size=batch_size,\n",
    "          epochs=epochs,\n",
    "          verbose=1,\n",
    "          validation_data=(X_test, Y_test))\n",
    "\n",
    "# evaliate model\n",
    "score = model_CNN.evaluate(X_test, Y_test, verbose=1)\n",
    "\n",
    "# print performance\n",
    "print()\n",
    "print('Test loss:', score[0])\n",
    "print('Test accuracy:', score[1])"
   ]
  },
  {
   "cell_type": "code",
   "execution_count": null,
   "metadata": {},
   "outputs": [],
   "source": []
  }
 ],
 "metadata": {
  "kernelspec": {
   "display_name": "Python 3 (ipykernel)",
   "language": "python",
   "name": "python3"
  },
  "language_info": {
   "codemirror_mode": {
    "name": "ipython",
    "version": 3
   },
   "file_extension": ".py",
   "mimetype": "text/x-python",
   "name": "python",
   "nbconvert_exporter": "python",
   "pygments_lexer": "ipython3",
   "version": "3.9.13"
  }
 },
 "nbformat": 4,
 "nbformat_minor": 2
}
